{
  "nbformat": 4,
  "nbformat_minor": 0,
  "metadata": {
    "colab": {
      "name": "Day 2 warm up 1  (my) .ipynb",
      "provenance": [],
      "authorship_tag": "ABX9TyMZ+SURcihAG1uCGOdCyNHT",
      "include_colab_link": true
    },
    "kernelspec": {
      "name": "python3",
      "display_name": "Python 3"
    },
    "language_info": {
      "name": "python"
    }
  },
  "cells": [
    {
      "cell_type": "markdown",
      "metadata": {
        "id": "view-in-github",
        "colab_type": "text"
      },
      "source": [
        "<a href=\"https://colab.research.google.com/github/miralfazhossain/TTP-2022-Class/blob/main/Day_2_warm_up_1_(my)_.ipynb\" target=\"_parent\"><img src=\"https://colab.research.google.com/assets/colab-badge.svg\" alt=\"Open In Colab\"/></a>"
      ]
    },
    {
      "cell_type": "markdown",
      "source": [
        "#1. Select a set of characters from “Hello World” to print\n"
      ],
      "metadata": {
        "id": "iTM5Tr9WyXy2"
      }
    },
    {
      "cell_type": "code",
      "source": [
        "txt=\"Hello World \"\n",
        "print(txt[2:5])"
      ],
      "metadata": {
        "colab": {
          "base_uri": "https://localhost:8080/"
        },
        "id": "VKzlUWz2za_8",
        "outputId": "ce7ad4c4-35db-44d2-9c89-1af7c15894d8"
      },
      "execution_count": 1,
      "outputs": [
        {
          "output_type": "stream",
          "name": "stdout",
          "text": [
            "llo\n"
          ]
        }
      ]
    },
    {
      "cell_type": "markdown",
      "source": [
        "#2. Print “Hello World” in reverse"
      ],
      "metadata": {
        "id": "qoH-2GdzztYs"
      }
    },
    {
      "cell_type": "code",
      "source": [
        "txt=\"Heelo World\" [::-1]\n",
        "print(txt)"
      ],
      "metadata": {
        "id": "0yuIu2e80Kh5"
      },
      "execution_count": null,
      "outputs": []
    },
    {
      "cell_type": "markdown",
      "source": [
        "#3.Print user input in reverse"
      ],
      "metadata": {
        "id": "0e-ogJHN0KFK"
      }
    },
    {
      "cell_type": "code",
      "source": [
        "useIn = input() [::-1]\n",
        "print(useIn)"
      ],
      "metadata": {
        "id": "u74IwXZ80I8s"
      },
      "execution_count": null,
      "outputs": []
    },
    {
      "cell_type": "markdown",
      "source": [
        "#4. Print user input in a sentence "
      ],
      "metadata": {
        "id": "nMOhPo3X3FAd"
      }
    },
    {
      "cell_type": "code",
      "source": [
        "name = input(\"Who am I?\\n\")\n",
        "resp=\"My name is \" + name + \" . \"\n",
        "prnit(resp)"
      ],
      "metadata": {
        "id": "RTRmMZM33PeC"
      },
      "execution_count": null,
      "outputs": []
    },
    {
      "cell_type": "markdown",
      "source": [
        "#5. Find the type of three objects"
      ],
      "metadata": {
        "id": "oOOx55Ws51_N"
      }
    },
    {
      "cell_type": "code",
      "source": [
        "a = \"Hello World\"\n",
        "b = 123\n",
        "c = 2j\n",
        "d = 1.0\n",
        "e = ['kiwi','strawberry','pineaaple']\n",
        "f = (1,2,3)\n",
        "g = {1:\"Hello\", 2:\"Hi\", 3:\"Howdy\"}\n",
        "\n",
        "print(type(a))\n",
        "print(type(b))\n",
        "print(type(c))\n",
        "print(type(d))\n",
        "print(type(e))\n",
        "print(type(f))\n",
        "print(type(g))\n"
      ],
      "metadata": {
        "id": "n-Lc5RjUECSK"
      },
      "execution_count": null,
      "outputs": []
    },
    {
      "cell_type": "markdown",
      "source": [
        "#6.Add two numbers together"
      ],
      "metadata": {
        "id": "m-xDXAiQ6AAq"
      }
    },
    {
      "cell_type": "code",
      "source": [
        "x = 100\n",
        "y = -50\n",
        "print(x+y)"
      ],
      "metadata": {
        "id": "IcxwJN3ZG2-P"
      },
      "execution_count": null,
      "outputs": []
    },
    {
      "cell_type": "markdown",
      "source": [
        "# 7. Find the square root of 5 numbers "
      ],
      "metadata": {
        "id": "_9qnnYQ6HHyW"
      }
    },
    {
      "cell_type": "code",
      "source": [
        "n1 = 5\n",
        "n2 = 10\n",
        "n3 = 2\n",
        "n4 = 3\n",
        "n5= 4\n",
        "\n",
        "x1 = n1**2\n",
        "x2 = n2**2\n"
      ],
      "metadata": {
        "id": "sYn6AWqWHO_K"
      },
      "execution_count": null,
      "outputs": []
    },
    {
      "cell_type": "markdown",
      "source": [
        "#Find the whole number of 5 division problems"
      ],
      "metadata": {
        "id": "-NsqKfyCKCEa"
      }
    },
    {
      "cell_type": "code",
      "source": [
        "'''\n",
        "print(x1 / 2)\n",
        "print(x2 / 2)\n",
        "print(x3 / 2)\n",
        "print(x4 / 2)\n",
        "print(x5 / 2)\n",
        "'''\n",
        "\n",
        "print(x1 // 2)\n",
        "print(x2 // 2)\n",
        "print(x3 // 2)\n",
        "print(x4 // 2)\n",
        "print(x5 // 2)"
      ],
      "metadata": {
        "id": "jriv6r6JKLoK"
      },
      "execution_count": null,
      "outputs": []
    },
    {
      "cell_type": "markdown",
      "source": [
        "#9. Create two lists and combine them"
      ],
      "metadata": {
        "id": "63_ma0CZLInX"
      }
    },
    {
      "cell_type": "code",
      "source": [
        "list1 = [0, 1, 2,  3, 4]\n",
        "list2 = [5, 6, 7, 8, 9]\n",
        "#print(list1 + list 2)\n",
        "print(list1 + list 2)"
      ],
      "metadata": {
        "id": "FH5uqzD8LT-E"
      },
      "execution_count": null,
      "outputs": []
    },
    {
      "cell_type": "markdown",
      "source": [
        "#10.Create two arrays and combine them"
      ],
      "metadata": {
        "id": "8zhYtBVzMJHo"
      }
    },
    {
      "cell_type": "code",
      "source": [
        "list1 = [0, 1, 2,  3, 4]\n",
        "list2 = [5, 6, 7, 8, 9]\n",
        "#print(list1 + list 2)\n",
        "print(list1 + list 2)"
      ],
      "metadata": {
        "id": "eps_yUW-MSb9"
      },
      "execution_count": null,
      "outputs": []
    },
    {
      "cell_type": "markdown",
      "source": [
        "#11. Convert 5 objects from one type to another(ex. Int to Float)"
      ],
      "metadata": {
        "id": "46yTB47jMf7N"
      }
    },
    {
      "cell_type": "code",
      "source": [
        "b = 123\n",
        "c = 2j\n",
        "d = 1.0\n",
        "\n",
        "a1 = float(b)\n",
        "a2 = int(b)\n",
        "a3 = str(d)\n",
        "print(a1)\n",
        "print(a2)\n",
        "print(a3)"
      ],
      "metadata": {
        "id": "8BiBKMuoMlzB"
      },
      "execution_count": null,
      "outputs": []
    },
    {
      "cell_type": "markdown",
      "source": [
        "#12. Convert a lowercase string to an UPPERCASE STRING"
      ],
      "metadata": {
        "id": "KFec4sARNSEj"
      }
    },
    {
      "cell_type": "code",
      "source": [
        "text = \"hello world\"\n",
        "print(text.upper())"
      ],
      "metadata": {
        "id": "tFKHqoduPFcy"
      },
      "execution_count": null,
      "outputs": []
    },
    {
      "cell_type": "markdown",
      "source": [
        "#13.  Print out the word “Python”, one letter at a time"
      ],
      "metadata": {
        "id": "SSWD5KzLPhsm"
      }
    },
    {
      "cell_type": "code",
      "source": [
        "a_string = \"Python\"\n",
        "\n",
        "for letter in a_string:\n",
        "  print(letter) \n",
        "\n",
        "list(\"Python\")\n",
        "['P', 'y', 't', 'h', 'o', 'n']"
      ],
      "metadata": {
        "id": "OOg7Sh8hP4rx"
      },
      "execution_count": null,
      "outputs": []
    },
    {
      "cell_type": "markdown",
      "source": [
        "#14. Print an object from a list of objects"
      ],
      "metadata": {
        "id": "3ZGglou-Ptrm"
      }
    },
    {
      "cell_type": "code",
      "source": [
        "print(a_string[2])"
      ],
      "metadata": {
        "id": "1fPT1IjIQLgq"
      },
      "execution_count": null,
      "outputs": []
    },
    {
      "cell_type": "markdown",
      "source": [
        "#15. BONUS!!! Get the version of Python being used"
      ],
      "metadata": {
        "id": "XiowOcSWPzGP"
      }
    },
    {
      "cell_type": "code",
      "source": [
        "import sys\n",
        "print(\"Python version\")\n",
        "print(sys.version)\n",
        "print(\"version info.\")\n",
        "print(sys.version_info)"
      ],
      "metadata": {
        "id": "pKZ_PSvRRHS6"
      },
      "execution_count": null,
      "outputs": []
    }
  ]
}